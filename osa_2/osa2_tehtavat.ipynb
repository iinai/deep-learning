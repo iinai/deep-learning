{
 "cells": [
  {
   "cell_type": "markdown",
   "metadata": {},
   "source": [
    "# Tehtävä 2-1. Aihe: Neuroverkko käsin: 4 pistettä"
   ]
  },
  {
   "cell_type": "code",
   "execution_count": 1,
   "outputs": [],
   "source": [
    "# Kirjoita tähän tietosi!\n",
    "student_name = 'Opiskelijan nimi tai Opiskelijoiden nimet'  # Oma nimesi\n",
    "student_id = 'JAMK-opiskelijatunnus tai JAMK-opiskelijatunnukset' # Oma opiskelijatunnuksesi JAMK:ssa "
   ],
   "metadata": {
    "collapsed": false,
    "ExecuteTime": {
     "end_time": "2023-08-22T11:29:26.392794300Z",
     "start_time": "2023-08-22T11:29:26.380765700Z"
    }
   }
  },
  {
   "cell_type": "markdown",
   "source": [
    "Tehtävässä on määritetty koordinaattipareja, joiden avulla on piirretty kaksi eri väristä pisteitä.\n",
    "Tavoitteena on luoda neuroverkko, joka jakaa kuvaajan punaiseen ja siniseen alueeseen.\n",
    "Kun kuvaajaan piirretään uusi piste ja pisteen koordinaatit syötetään neuroverkolle, neuroverkko ennustaa,\n",
    "minkä värinen piste on ja samalla sen, että millä todennäköisyydellä se on sen värinen.\n",
    "\n",
    "1. Luo opetusdatan koordinaattipisteet sekä värit ominaisuuksiin ja ennustettaviin arvoihin.\n",
    "2. Luo neuroverkkoluokka, jonka rakenne on:\n",
    "    * Sisääntulokerros, jossa on kaksi neuronia (x, y) - eli koordinaatit pisteelle\n",
    "    * Yksi piilotettua kerros, jossa on 6 neuronia ja aktivointifunktiona sigmoid.\n",
    "    * Ulostulokerros, jossa yksi neuroni ja aktivointifunktiona sigmoid.\n",
    "    * Ulostulokerroksen tulos on siis numeerinen arvo (float) väliltä [0, 1]\n",
    "3. Luo funktiot, joiden avulla lasket neuroverkon ennustuksen syöttödatalle (forwardpropagation) ja päivität yhteyksien painoarvoja virheen avulla (backpropagation)\n",
    "4. Syötä koulutusdata 1000 kertaa neuroverkon läpi.\n",
    "    * Syötä jokaisella kierroksella koulutusdata rivi riviltä neuroverkon läpi ja päivitä painoarvot.\n",
    "    * Tallenna kierroksen aikana virheet jokaiselle syötölle, ja lisää kierroksen virheistä keskiarvo listaan. Piirrä kuvaaja siitä, kuinka virhe muuttuu koulutuksen aikana\n",
    "5. Ennusta neuroverkolla (float-arvo), minkä värinen on piste: [0.5, 8.7]. Kuinka tarkka ennuste mielestäsi on?\n",
    "6. Ennusta neuroverkolla (float-arvo), minkä värinen on piste: [15, -15]. Kuinka tarkka ennuste mielestäsi on?\n",
    "7. Tutki miten backpropagation()-metodin learning_rate-argumentin muutos vaikuttaa (0.01 -- 0.001) tulokseen?\n",
    "8. Tutki miten make_blobs()-funktion n_samples-ominaisuuden muuttaminen vaikuttaa tulokseen?\n",
    "9. Tutki miten make_blobs()-funktion cluster_std-ominaisuuden muuttaminen vaikuttaa tulokseen?\n",
    "\n",
    "\n",
    "Vinkkejä:\n",
    "* Piirrä neuroverkon rakenne piirrustusohjelmalla tai paperille, näet silloin yhteyksien määrän jokaisessa kerroksessa.\n",
    "* Käytä olemassa olevaa ratkaisua materiaaleista, lisää siihen tarvittavat laskut jokaiselle kerrokselle."
   ],
   "metadata": {
    "collapsed": false
   }
  },
  {
   "cell_type": "code",
   "execution_count": 2,
   "metadata": {
    "ExecuteTime": {
     "end_time": "2023-08-22T11:29:27.011139400Z",
     "start_time": "2023-08-22T11:29:26.397779400Z"
    }
   },
   "outputs": [
    {
     "data": {
      "text/plain": "<matplotlib.collections.PathCollection at 0x1f3f9641b40>"
     },
     "execution_count": 2,
     "metadata": {},
     "output_type": "execute_result"
    },
    {
     "data": {
      "text/plain": "<Figure size 640x480 with 1 Axes>",
      "image/png": "[encoded data removed]"
     },
     "metadata": {},
     "output_type": "display_data"
    }
   ],
   "source": [
    "# tehtävässä käytetään make_blobs()-funktiota, jota voi käyttää testidatasetin piirtoon\n",
    "import matplotlib.pyplot as plt\n",
    "from sklearn.datasets import make_blobs\n",
    "dots, labels = make_blobs(n_samples=50, centers=2, cluster_std=8, center_box=(-20, 20), random_state=151)\n",
    "colors = ['red' if label == 0 else 'blue' for label in labels]\n",
    "plt.scatter(dots[:,0],dots[:,1],color=colors)"
   ]
  },
  {
   "cell_type": "code",
   "execution_count": 3,
   "outputs": [],
   "source": [
    "import numpy as np\n",
    "\n",
    "# Tehtävän toteutus - tämä on valmis luokka käytettäväksi\n",
    "class NeuralNetwork:\n",
    "    def __init__(self):\n",
    "        self.weights1 = np.random.rand(2, 6)\n",
    "        self.weights2 = np.random.rand(6, 1)\n",
    "\n",
    "    def __init__(self, input_neurons, hidden_neurons):\n",
    "        self.weights1 = np.random.rand(input_neurons, hidden_neurons)\n",
    "        self.weights2 = np.random.rand(hidden_neurons, 1)\n",
    "\n",
    "    # Virhefunktio\n",
    "    def loss_function(self, true, prediction):\n",
    "        return 0.5 * (true - prediction) ** 2\n",
    "\n",
    "    # Virhefunktion derivaatta\n",
    "    def loss_function_derivative(self, true, prediction):\n",
    "        return true - prediction\n",
    "\n",
    "    # Sigmoid funktio\n",
    "    def sigmoid(self, x):\n",
    "        return 1 / (1 + np.exp(-x))\n",
    "\n",
    "    # Sigmoidin derivaatta\n",
    "    def sigmoid_derivative(self, x):\n",
    "        return x * (1 - x)\n",
    "\n",
    "    # Neuroverkon läpikäynti\n",
    "    def forwardpropagation(self, X, y):\n",
    "        self.X = X\n",
    "        self.y = y\n",
    "        self.layer1 = self.sigmoid(np.dot(self.X, self.weights1))\n",
    "        self.output = self.sigmoid(np.dot(self.layer1, self.weights2))\n",
    "\n",
    "        # lasketaan häviö eli neuroverkon ennustuksen etäisyys oikeasta arvosta\n",
    "        self.loss = self.loss_function(self.y, self.output)\n",
    "\n",
    "    # Painoarvojen päivitys backpropagation - menetelmällä\n",
    "    def backpropagation(self, learning_rate):\n",
    "        output_error = self.loss_function_derivative(self.y, self.output)\n",
    "        output_delta = output_error * self.sigmoid_derivative(self.output)\n",
    "        weights2_adjustment = np.dot(self.layer1.T, output_delta)\n",
    "\n",
    "        layer1_error = np.dot(output_delta, self.weights2.T)\n",
    "        layer1_delta = layer1_error * self.sigmoid_derivative(self.layer1)\n",
    "        weights1_adjustment = np.dot(self.X.T, layer1_delta)\n",
    "\n",
    "        self.weights1 += learning_rate * weights1_adjustment\n",
    "        self.weights2 += learning_rate * weights2_adjustment\n"
   ],
   "metadata": {
    "collapsed": false,
    "ExecuteTime": {
     "end_time": "2023-08-22T11:29:27.028093900Z",
     "start_time": "2023-08-22T11:29:27.021114600Z"
    }
   }
  },
  {
   "cell_type": "markdown",
   "source": [
    " `create_dots_and_labels()`: luodaan pisteet ja nimekkeet sekä nimikkeiden pohjalta asetetaan RGB-väri pisteelle.\n",
    " * Opiskelijan tulee toteuttaa seuraava: Luo väritaulukko, jossa väri on `[label: 0: \"red\" tai 1: \"blue\"]`\n",
    " * Selvitä miten `make_blobs()` toimii\n",
    "\n",
    " `train_neural_network()`: Kouluttaa neuroverkon ja tallentaa häviön joka epoch-kierroksen jälkeen (valmis toteutus)\n",
    "\n",
    "ks. **TODO** -kohdat, jotka vaativat oman koodin kirjoittamista"
   ],
   "metadata": {
    "collapsed": false
   }
  },
  {
   "cell_type": "code",
   "execution_count": 4,
   "outputs": [],
   "source": [
    "# funktio palauttaa taulukon, jossa on [dots, labels, colors]\n",
    "def create_dots_and_labels():\n",
    "    # TODO: Tutki miten make_blobs()-funktion cluster_std-ominaisuuden kasvattaminen vaikuttaa tulokseen?\n",
    "    dots, labels = make_blobs(n_samples=50, centers=2, cluster_std=8, center_box=(-20, 20), random_state=151)\n",
    "    colors = []\n",
    "    # Luo väritaulukko, jossa väri on [\"red\" tai \"blue\"]\n",
    "    # TODO: luo colors-väritaulukko labels-taulukon arvojen pohjalta\n",
    "\n",
    "    return [dots, labels, colors]\n",
    "\n",
    "# Kouluttaa neuroverkon ja tallentaa häviön joka epoch-kierroksen jälkeen (valmis toteutus)\n",
    "def train_neural_network(ntwrk, train_X, train_y):\n",
    "    losses_arr = []  # tallentaa kierroksen virheet\n",
    "    epochs = 1000\n",
    "    for epoch in range(epochs):\n",
    "        batch_losses = []\n",
    "        # Käydään jokaisessa kierroksessa jokainen koordinaattipari läpi\n",
    "        for X, y in zip(train_X, train_y):\n",
    "            ntwrk.forwardpropagation(np.array([X]), np.array([y]))\n",
    "            # TODO: Tutki Miten learning_rate muutos vaikuttaa (0.01 - 0.001) tulokseen?\n",
    "            ntwrk.backpropagation(learning_rate=0.01)\n",
    "            batch_losses.append(ntwrk.loss[0])\n",
    "        losses_arr.append(np.average(batch_losses))  # lasketaan keskiarvo yhden kierroksen virhearvoista\n",
    "    return losses_arr\n"
   ],
   "metadata": {
    "collapsed": false,
    "ExecuteTime": {
     "end_time": "2023-08-22T11:29:27.085319500Z",
     "start_time": "2023-08-22T11:29:27.035075300Z"
    }
   }
  },
  {
   "cell_type": "markdown",
   "source": [
    "* Määritetään koulutusdata ja luodaan neuroverkko\n",
    "    * create_dots_and_labels\n",
    "* Piirretään pisteet (kuviotyyppinä `scatter plot`)\n",
    "* Koulutetaan neuroverkkoa  ja otetaan joka kierroksen jälkeen neuroverkon häviö ylos"
   ],
   "metadata": {
    "collapsed": false
   }
  },
  {
   "cell_type": "code",
   "execution_count": 5,
   "metadata": {
    "ExecuteTime": {
     "end_time": "2023-08-22T11:29:27.085319500Z",
     "start_time": "2023-08-22T11:29:27.046047400Z"
    }
   },
   "outputs": [],
   "source": [
    "# Tehtävän toteutus jatkuu tästä\n",
    "\n",
    "# TODO: Luodaan ja koulututaan neuroverkko\n",
    "# ... NeuralNetwork(sisaantulokerroksen_neuronit, piilokerroksen_neuronit) # ks. ohjeen kohta 2.\n",
    "# ... train_neural_network(...)\n",
    "\n",
    "# TODO: Luodaan ja koulututaan neuroverkko ja otetaan joka kierroksen jälkeen neuroverkon häviö ylos"
   ]
  },
  {
   "cell_type": "markdown",
   "source": [
    "Piirretään neuroverkon häviöt"
   ],
   "metadata": {
    "collapsed": false
   }
  },
  {
   "cell_type": "code",
   "execution_count": 6,
   "outputs": [],
   "source": [
    "# TODO: Piirretään neuroverkon häviöt\n",
    "import matplotlib.pyplot as plt\n"
   ],
   "metadata": {
    "collapsed": false,
    "ExecuteTime": {
     "end_time": "2023-08-22T11:29:27.085319500Z",
     "start_time": "2023-08-22T11:29:27.062432600Z"
    }
   }
  },
  {
   "cell_type": "markdown",
   "source": [
    "### Lasketaan ennusteet\n",
    "* laske `output1`-muuttujaan neuroverkon ennuste syötteelle `[0.5, 8.7]`.\n",
    "* laske `output2`-muuttujaan neuroverkon ennuste syötteelle `[-30, -30]`.\n"
   ],
   "metadata": {
    "collapsed": false
   }
  },
  {
   "cell_type": "code",
   "execution_count": 7,
   "outputs": [],
   "source": [
    "# Tehtävän toteutus\n",
    "\n",
    "# TODO: Ennusteiden laskeminen yo. kahdelle pisteille\n",
    "\n",
    "# TODO: Lasketaan ennuste ensimmäiselle syötteelle\n",
    "test_X_nn = np.array([0.5, 8.7])\n",
    "# layer1_output = neural_network.sigmoid(np.dot(numpy_array, painoarvot))\n",
    "# annetaan edellisen kerroksen tulokset ja toiset painoarvot edellä käytetylle funktiolle\n",
    "output1 = [0.9]  # TODO: Alustettu ettei tule virheitä. Arvo on laskettava\n",
    "\n",
    "test_X_nn2 = np.array([15, -15])\n",
    "# TODO: Lasketaan ennuste toiselle syötteelle\n",
    "\n",
    "output2 = [0.1]   # TODO: Alustettu ettei tule virheitä. Arvo on laskettava\n"
   ],
   "metadata": {
    "collapsed": false,
    "ExecuteTime": {
     "end_time": "2023-08-22T11:29:27.089309300Z",
     "start_time": "2023-08-22T11:29:27.079425500Z"
    }
   }
  },
  {
   "cell_type": "code",
   "execution_count": 8,
   "metadata": {
    "tags": [
     "answers_1_2"
    ],
    "ExecuteTime": {
     "end_time": "2023-08-22T11:29:27.134573800Z",
     "start_time": "2023-08-22T11:29:27.092301300Z"
    }
   },
   "outputs": [
    {
     "name": "stdout",
     "output_type": "stream",
     "text": [
      "[0.9]\n",
      "[0.1]\n"
     ]
    }
   ],
   "source": [
    "# Tehtävän vastaukset. Huom! Älä muokkaa tätä solua, vaan aja se, kun olet suorittanut tehtävän.\n",
    "print(output1)\n",
    "print(output2)"
   ]
  },
  {
   "cell_type": "markdown",
   "metadata": {},
   "source": [
    "# Tehtävä 2-2\n",
    "# Aihe: Yksinkertainen neuroverkko Keras Sequential API:lla (max. 3 p)\n",
    "\n",
    "Koulutetaan yksinkertainen neuroverkko **Keras**-rajapinnalla käyttäen `titanic-dataa`\n",
    "Datan saat osoitteesta: `https://student.labranet.jamk.fi/~varpe/datananalk2019/kerta10/titanic.csv`\n",
    "\n",
    "Tehtävästä on löydyttävä vaiheet:\n",
    "1. Valitse Titanic-datasta vain kolme-neljä tärkeää feature-piirrettä tehtävään\n",
    "   * tästä aineistosta on ollut esimerkkejä jo koneoppimisen puolella (ja niitä voi lainata tai soveltaa), mutta tätä voi halutessaan myös itse tutkia tarkemmin\n",
    "2. Luo neuroverkko (käytä `tf.keras.Sequential()`-metodia)\n",
    "3. Määritä häviöfunktio ja optimisaattori (käytä `model.compile()`-metodia)\n",
    "4. Kouluta neuroverkko (käytä `model.fit()`-metodia)\n",
    "5. Vertaa neuroverkon antamia ennustuksia testidataan (käytä `model.evaluate()`-metodia)\n",
    "6. Tulosta välikierrosten (`epoch`) tulokset konsolille.\n",
    " ```\n",
    " 23/23 [==============================] - 0s 687us/step - loss: 2.2182 - accuracy: 0.6236\n",
    " Epoch 2/1000\n",
    " 23/23 [==============================] - 0s 702us/step - loss: 1.4468 - accuracy: 0.6238\n",
    " ```\n",
    "7. Muuta neuroverkon rakennetta ja yritä dokumentoida neuroverkko, jolla sait parhaat tulokset.\n",
    "\n",
    "Myös epoch-kierrosmäärien vaikutusta voi testata, mutta arvauksena on, että max. 1000 opetuskierrosta riittää varmasti hyvin.\n",
    "Useita neuroverkkorakenteita kannattaa kokeilla ja hieman vertailla oppimistuloksia.\n"
   ]
  },
  {
   "cell_type": "markdown",
   "source": [
    "### Datan esikäsittely + Keras - Titanic-data\n",
    "\n",
    "Versio, jossa pyritään hakemaan 3-4 tärkeintä piirrettä, jotka korreloivat eniten `survived`-kentän (luokkamuuttujan) kanssa.\n"
   ],
   "metadata": {
    "collapsed": false
   }
  },
  {
   "cell_type": "code",
   "execution_count": 9,
   "metadata": {
    "ExecuteTime": {
     "end_time": "2023-08-22T11:29:27.263103100Z",
     "start_time": "2023-08-22T11:29:27.109051400Z"
    }
   },
   "outputs": [
    {
     "name": "stdout",
     "output_type": "stream",
     "text": [
      "   PassengerId  Survived  Pclass  \\\n",
      "0            1         0       3   \n",
      "1            2         1       1   \n",
      "2            3         1       3   \n",
      "3            4         1       1   \n",
      "4            5         0       3   \n",
      "\n",
      "                                                Name     Sex   Age  SibSp  \\\n",
      "0                            Braund, Mr. Owen Harris    male  22.0      1   \n",
      "1  Cumings, Mrs. John Bradley (Florence Briggs Th...  female  38.0      1   \n",
      "2                             Heikkinen, Miss. Laina  female  26.0      0   \n",
      "3       Futrelle, Mrs. Jacques Heath (Lily May Peel)  female  35.0      1   \n",
      "4                           Allen, Mr. William Henry    male  35.0      0   \n",
      "\n",
      "   Parch            Ticket     Fare Cabin Embarked  \n",
      "0      0         A/5 21171   7.2500   NaN        S  \n",
      "1      0          PC 17599  71.2833   C85        C  \n",
      "2      0  STON/O2. 3101282   7.9250   NaN        S  \n",
      "3      0            113803  53.1000  C123        S  \n",
      "4      0            373450   8.0500   NaN        S  \n"
     ]
    }
   ],
   "source": [
    "# Tehtävän toteutus\n",
    "# Datan Esikäsittely\n",
    "\n",
    "import pandas as pd\n",
    "import matplotlib.pyplot as plt\n",
    "import seaborn as sns\n",
    "\n",
    "df = pd.read_csv('https://student.labranet.jamk.fi/~varpe/datananalk2019/kerta10/titanic.csv')\n",
    "\n",
    "print(df.head())\n",
    "# TODO: esikäsittelyn loppu toteutus"
   ]
  },
  {
   "cell_type": "code",
   "execution_count": 10,
   "outputs": [],
   "source": [
    "# Jos tulee sertifikaatti vanhentunut -virhe, niin ao. koodi auttaa.\n",
    "# Toinen vaihtoeho on että vain kopioi CSV-tiedoston omaan repoon tehtävän tekemistä varten\n",
    "# import ssl\n",
    "# ssl._create_default_https_context = ssl._create_unverified_context\n",
    "# df = pd.read_csv('https://student.labranet.jamk.fi/~varpe/datananalk2019/kerta10/titanic.csv')\n"
   ],
   "metadata": {
    "collapsed": false,
    "ExecuteTime": {
     "end_time": "2023-08-22T11:29:27.277337900Z",
     "start_time": "2023-08-22T11:29:27.265099500Z"
    }
   }
  },
  {
   "cell_type": "markdown",
   "source": [
    "### Aineiston jakaminen\n",
    "* Irrotetaan ennustettava muuttuja datasta.\n",
    "* jaetaan data opetus- ja testidataan.\n"
   ],
   "metadata": {
    "collapsed": false
   }
  },
  {
   "cell_type": "code",
   "execution_count": 11,
   "outputs": [],
   "source": [
    "# Tehtävän toteutus\n",
    "\n",
    "# TODO: Irrotetaan datasta ennustettava luokkamuuttuja\n",
    "\n",
    "# TODO: Jako opetus- ja testidataan"
   ],
   "metadata": {
    "collapsed": false,
    "ExecuteTime": {
     "end_time": "2023-08-22T11:29:27.300443600Z",
     "start_time": "2023-08-22T11:29:27.281323300Z"
    }
   }
  },
  {
   "cell_type": "markdown",
   "source": [
    "### Tehtävän toteutus Keras-kirjastoa käyttäen\n",
    "\n",
    "Luodaan neuroverkko, jossa on `Dense`-kerroksia peräkkäin (`Sequential`). Määritä nämä kaksi parametriä ainakin:\n",
    "* `units` – dimensionality of the output space.\n",
    "* `activation` – Activation function to use. If you don't specify anything, no activation is applied\n",
    "\n",
    "Huom! Useita neuroverkkorakenteita kannattaa kokeilla ja hieman vertailla oppimistuloksia."
   ],
   "metadata": {
    "collapsed": false
   }
  },
  {
   "cell_type": "code",
   "execution_count": 12,
   "outputs": [],
   "source": [
    "# Tehtävät toteutus\n",
    "import tensorflow as tf\n",
    "tf.keras.backend.set_floatx('float64')\n",
    "\n",
    "# TODO: Luodaan neuroverkko\n",
    "#\n",
    "# model = tf.keras.Sequential([\n",
    "#  tf.keras.layers.Dense(...),"
   ],
   "metadata": {
    "collapsed": false,
    "ExecuteTime": {
     "end_time": "2023-08-22T11:29:31.515408400Z",
     "start_time": "2023-08-22T11:29:27.302438700Z"
    }
   }
  },
  {
   "cell_type": "markdown",
   "source": [
    "* Määritetään häviöfunktio ja optimisaattori.\n",
    "* Koulutetaan neuroverkko (epochs=100-1000)\n",
    "* Verrataan tuloksia testidataan"
   ],
   "metadata": {
    "collapsed": false
   }
  },
  {
   "cell_type": "code",
   "execution_count": 13,
   "outputs": [],
   "source": [
    "# Tehtävän toteutus\n",
    "\n",
    "# TODO: Käännä malli\n",
    "# TODO: Kouluta neuroverkko n epoch-kierrosta\n",
    "\n",
    "# TODO: Vertaa saatuja oppimistuloksia testidataan\n",
    "results = [.001, .001] # TODO: Alustettu ettei tule virheitä. Tulokset laskettava tehtävä"
   ],
   "metadata": {
    "collapsed": false,
    "ExecuteTime": {
     "end_time": "2023-08-22T11:29:31.533386Z",
     "start_time": "2023-08-22T11:29:31.516398Z"
    }
   }
  },
  {
   "cell_type": "code",
   "execution_count": 14,
   "metadata": {
    "tags": [
     "answers_1_3"
    ],
    "ExecuteTime": {
     "end_time": "2023-08-22T11:29:31.559534100Z",
     "start_time": "2023-08-22T11:29:31.542360900Z"
    }
   },
   "outputs": [
    {
     "name": "stdout",
     "output_type": "stream",
     "text": [
      "Test Loss:0.001 Test Accuracy:0.1%\n"
     ]
    }
   ],
   "source": [
    "# Tehtävän vastaukset. Huom! Älä muokkaa tätä solua, vaan aja se, kun olet suorittanut tehtävän. Sijoita results - muuttujaan funktion model.evaluate() tulos.\n",
    "# TODO: Muista määrittää model.compile() - funktioon seurattavaksi suureeksi metrics=['accuracy'] neuroverkon ennustuksien tarkkuuden määrittelemiseksi.\n",
    "print(f\"Test Loss:{results[0]} Test Accuracy:{results[1]*100}%\")"
   ]
  },
  {
   "cell_type": "markdown",
   "source": [
    "Tehtävän tuloksesta:\n",
    "Test Accuracy: > n. 80 % -- on jo aika hyvä, mutta toki parempaakin saa hakea (jos haluaa käyttää paljon ylimääräistä aikaa)\n"
   ],
   "metadata": {
    "collapsed": false
   }
  }
 ],
 "metadata": {
  "kernelspec": {
   "name": "python3",
   "language": "python",
   "display_name": "Python 3 (ipykernel)"
  },
  "language_info": {
   "codemirror_mode": {
    "name": "ipython",
    "version": 3
   },
   "file_extension": ".py",
   "mimetype": "text/x-python",
   "name": "python",
   "nbconvert_exporter": "python",
   "pygments_lexer": "ipython3",
   "version": "3.7.7"
  }
 },
 "nbformat": 4,
 "nbformat_minor": 4
}
