{
 "cells": [
  {
   "cell_type": "markdown",
   "metadata": {},
   "source": [
    "# Syväoppiminen: Osa 1: Perseptroni"
   ]
  },
  {
   "cell_type": "code",
   "execution_count": 1,
   "metadata": {
    "ExecuteTime": {
     "end_time": "2023-08-22T11:29:10.188020900Z",
     "start_time": "2023-08-22T11:29:10.177050Z"
    },
    "collapsed": false,
    "jupyter": {
     "outputs_hidden": false
    }
   },
   "outputs": [],
   "source": [
    "# Kirjoita tähän tietosi!\n",
    "student_name = 'Iina Pirinen'  # Oma nimesi\n",
    "student_id = 'AB7766' # Oma opiskelijatunnuksesi JAMK:ssa"
   ]
  },
  {
   "cell_type": "markdown",
   "metadata": {},
   "source": [
    "## Tehtävä 1-1\n",
    "### Aihe: Onnellisuus, Luokittelija: Perseptroni (3 p)\n",
    "\n",
    "Tutustu aineistoon *Somerville Happiness Survey Data Set* osoitteessa https://archive.ics.uci.edu/ml/datasets/Somerville+Happiness+Survey .\n",
    "\n",
    "Esikäsitellään aineisto. Tiedosto on UTF-16-enkoodattu."
   ]
  },
  {
   "cell_type": "code",
   "execution_count": 2,
   "metadata": {
    "ExecuteTime": {
     "end_time": "2023-08-22T11:29:10.262821800Z",
     "start_time": "2023-08-22T11:29:10.195999200Z"
    },
    "collapsed": false,
    "jupyter": {
     "outputs_hidden": false
    },
    "tags": []
   },
   "outputs": [
    {
     "name": "stdout",
     "output_type": "stream",
     "text": [
      "1    77\n",
      "0    66\n",
      "Name: happy, dtype: int64 \n",
      "\n",
      "Columns: Index(['happy', 'info-availability', 'cost-of-housing',\n",
      "       'quality-public-schools', 'trust-in-local-police',\n",
      "       'maintenance-of-streets', 'social-event-availability'],\n",
      "      dtype='object')\n",
      "First row by position: happy                        0\n",
      "info-availability            3\n",
      "cost-of-housing              3\n",
      "quality-public-schools       3\n",
      "trust-in-local-police        4\n",
      "maintenance-of-streets       2\n",
      "social-event-availability    4\n",
      "Name: 0, dtype: int64\n"
     ]
    },
    {
     "data": {
      "text/html": [
       "<div>\n",
       "<style scoped>\n",
       "    .dataframe tbody tr th:only-of-type {\n",
       "        vertical-align: middle;\n",
       "    }\n",
       "\n",
       "    .dataframe tbody tr th {\n",
       "        vertical-align: top;\n",
       "    }\n",
       "\n",
       "    .dataframe thead th {\n",
       "        text-align: right;\n",
       "    }\n",
       "</style>\n",
       "<table border=\"1\" class=\"dataframe\">\n",
       "  <thead>\n",
       "    <tr style=\"text-align: right;\">\n",
       "      <th></th>\n",
       "      <th>happy</th>\n",
       "      <th>info-availability</th>\n",
       "      <th>cost-of-housing</th>\n",
       "      <th>quality-public-schools</th>\n",
       "      <th>trust-in-local-police</th>\n",
       "      <th>maintenance-of-streets</th>\n",
       "      <th>social-event-availability</th>\n",
       "    </tr>\n",
       "  </thead>\n",
       "  <tbody>\n",
       "    <tr>\n",
       "      <th>0</th>\n",
       "      <td>0</td>\n",
       "      <td>3</td>\n",
       "      <td>3</td>\n",
       "      <td>3</td>\n",
       "      <td>4</td>\n",
       "      <td>2</td>\n",
       "      <td>4</td>\n",
       "    </tr>\n",
       "    <tr>\n",
       "      <th>1</th>\n",
       "      <td>0</td>\n",
       "      <td>3</td>\n",
       "      <td>2</td>\n",
       "      <td>3</td>\n",
       "      <td>5</td>\n",
       "      <td>4</td>\n",
       "      <td>3</td>\n",
       "    </tr>\n",
       "    <tr>\n",
       "      <th>2</th>\n",
       "      <td>1</td>\n",
       "      <td>5</td>\n",
       "      <td>3</td>\n",
       "      <td>3</td>\n",
       "      <td>3</td>\n",
       "      <td>3</td>\n",
       "      <td>5</td>\n",
       "    </tr>\n",
       "    <tr>\n",
       "      <th>3</th>\n",
       "      <td>0</td>\n",
       "      <td>5</td>\n",
       "      <td>4</td>\n",
       "      <td>3</td>\n",
       "      <td>3</td>\n",
       "      <td>3</td>\n",
       "      <td>5</td>\n",
       "    </tr>\n",
       "    <tr>\n",
       "      <th>4</th>\n",
       "      <td>0</td>\n",
       "      <td>5</td>\n",
       "      <td>4</td>\n",
       "      <td>3</td>\n",
       "      <td>3</td>\n",
       "      <td>3</td>\n",
       "      <td>5</td>\n",
       "    </tr>\n",
       "    <tr>\n",
       "      <th>...</th>\n",
       "      <td>...</td>\n",
       "      <td>...</td>\n",
       "      <td>...</td>\n",
       "      <td>...</td>\n",
       "      <td>...</td>\n",
       "      <td>...</td>\n",
       "      <td>...</td>\n",
       "    </tr>\n",
       "    <tr>\n",
       "      <th>138</th>\n",
       "      <td>0</td>\n",
       "      <td>5</td>\n",
       "      <td>3</td>\n",
       "      <td>3</td>\n",
       "      <td>1</td>\n",
       "      <td>3</td>\n",
       "      <td>5</td>\n",
       "    </tr>\n",
       "    <tr>\n",
       "      <th>139</th>\n",
       "      <td>1</td>\n",
       "      <td>5</td>\n",
       "      <td>2</td>\n",
       "      <td>3</td>\n",
       "      <td>4</td>\n",
       "      <td>2</td>\n",
       "      <td>5</td>\n",
       "    </tr>\n",
       "    <tr>\n",
       "      <th>140</th>\n",
       "      <td>1</td>\n",
       "      <td>5</td>\n",
       "      <td>3</td>\n",
       "      <td>3</td>\n",
       "      <td>4</td>\n",
       "      <td>4</td>\n",
       "      <td>5</td>\n",
       "    </tr>\n",
       "    <tr>\n",
       "      <th>141</th>\n",
       "      <td>0</td>\n",
       "      <td>4</td>\n",
       "      <td>3</td>\n",
       "      <td>3</td>\n",
       "      <td>4</td>\n",
       "      <td>4</td>\n",
       "      <td>5</td>\n",
       "    </tr>\n",
       "    <tr>\n",
       "      <th>142</th>\n",
       "      <td>0</td>\n",
       "      <td>5</td>\n",
       "      <td>3</td>\n",
       "      <td>2</td>\n",
       "      <td>5</td>\n",
       "      <td>5</td>\n",
       "      <td>5</td>\n",
       "    </tr>\n",
       "  </tbody>\n",
       "</table>\n",
       "<p>143 rows × 7 columns</p>\n",
       "</div>"
      ],
      "text/plain": [
       "     happy  info-availability  cost-of-housing  quality-public-schools  \\\n",
       "0        0                  3                3                       3   \n",
       "1        0                  3                2                       3   \n",
       "2        1                  5                3                       3   \n",
       "3        0                  5                4                       3   \n",
       "4        0                  5                4                       3   \n",
       "..     ...                ...              ...                     ...   \n",
       "138      0                  5                3                       3   \n",
       "139      1                  5                2                       3   \n",
       "140      1                  5                3                       3   \n",
       "141      0                  4                3                       3   \n",
       "142      0                  5                3                       2   \n",
       "\n",
       "     trust-in-local-police  maintenance-of-streets  social-event-availability  \n",
       "0                        4                       2                          4  \n",
       "1                        5                       4                          3  \n",
       "2                        3                       3                          5  \n",
       "3                        3                       3                          5  \n",
       "4                        3                       3                          5  \n",
       "..                     ...                     ...                        ...  \n",
       "138                      1                       3                          5  \n",
       "139                      4                       2                          5  \n",
       "140                      4                       4                          5  \n",
       "141                      4                       4                          5  \n",
       "142                      5                       5                          5  \n",
       "\n",
       "[143 rows x 7 columns]"
      ]
     },
     "execution_count": 2,
     "metadata": {},
     "output_type": "execute_result"
    }
   ],
   "source": [
    "# Esikäsittelyn Toteutus on kirjoitettu tässä tehtävässä valmiiksi\n",
    "import pandas as pd\n",
    "\n",
    "df = pd.read_csv('SomervilleHappinessSurvey2015.csv', encoding='utf-16')\n",
    "\n",
    "feature_columns = [\n",
    "    'info-availability',\n",
    "    'cost-of-housing',\n",
    "    'quality-public-schools',\n",
    "    'trust-in-local-police',\n",
    "    'maintenance-of-streets',\n",
    "    'social-event-availability'\n",
    "]\n",
    "\n",
    "columns = ['happy'] + feature_columns\n",
    "\n",
    "df.columns = columns\n",
    "\n",
    "print(df['happy'].value_counts(), '\\n')\n",
    "\n",
    "# Tallenna DataFrame df-muuttujaan ja koulutusaineisto.\n",
    "print(f'Columns: {df.columns}')\n",
    "print(f'First row by position: {df.iloc[0]}')\n",
    "\n",
    "df"
   ]
  },
  {
   "cell_type": "markdown",
   "metadata": {},
   "source": [
    "Jaa  aineisto koulutus- (67%) ja testausaineistoon (33%) (`X_train`, `y_train`, `X_test`, `y_test`).\n",
    "Käytä satunnaissiementä `9001`."
   ]
  },
  {
   "cell_type": "code",
   "execution_count": 3,
   "metadata": {
    "ExecuteTime": {
     "end_time": "2023-08-22T11:29:10.644799500Z",
     "start_time": "2023-08-22T11:29:10.221931100Z"
    },
    "collapsed": false,
    "jupyter": {
     "outputs_hidden": false
    },
    "tags": []
   },
   "outputs": [],
   "source": [
    "# Kirjoita toteutuksesi tähän soluun.\n",
    "from sklearn.model_selection import train_test_split\n",
    "from sklearn.preprocessing import StandardScaler\n",
    "\n",
    "X = df.drop(columns='happy')\n",
    "y = df['happy']\n",
    "\n",
    "# Ainesiton jako koulutus- ja testausaineistoon 67/33\n",
    "X_train, X_test, y_train, y_test = train_test_split(X, y, test_size=0.33, random_state=9001)\n",
    "\n",
    "# Skaalataan\n",
    "scaler = StandardScaler().fit(X_train)\n",
    "X_train = pd.DataFrame(scaler.transform(X_train), columns=feature_columns)\n",
    "X_test = pd.DataFrame(scaler.transform(X_test), columns=feature_columns)"
   ]
  },
  {
   "cell_type": "code",
   "execution_count": 4,
   "metadata": {
    "ExecuteTime": {
     "end_time": "2023-08-22T11:29:10.662751300Z",
     "start_time": "2023-08-22T11:29:10.647790300Z"
    },
    "collapsed": false,
    "jupyter": {
     "outputs_hidden": false
    },
    "tags": []
   },
   "outputs": [
    {
     "name": "stdout",
     "output_type": "stream",
     "text": [
      "Test length: 48\n",
      "Train length: 95\n"
     ]
    }
   ],
   "source": [
    "# Tehtävän vastaukset. Huom! Älä muokkaa tätä solua, vaan aja se, kun olet suorittanut tehtävän.\n",
    "print(f'Test length: {len(X_test)}')\n",
    "print(f'Train length: {len(X_train)}')"
   ]
  },
  {
   "cell_type": "markdown",
   "metadata": {},
   "source": [
    "### Lineaarinen perseptroni-luokittelija\n",
    "\n",
    "1. Käytä `scikit-learn`-kirjaston lineaarista perseptronia luodaksesi luokittelija. Tallenna luokittelija `pc`-muuttujaan.\n",
    "\n",
    "2. Ennusta testausaineistosi todennäköisyys olla luokassa käyttäen luokittelijaasi ja tallenna luottamuspisteet muuttujaan `y_score`. Tallenna ennustettujen luokkien tulos muuttujaan `y_pred`. Vinkki: `decision_function()`.\n",
    "\n",
    "3. Tallenna luokitteluraportti `cr` ja sekaannusmatriisi `cm` käyttäen `metrics`-moduulia.\n",
    "\n",
    "4. Laske regressiolle ROC-arvot `scikit-learn`-kirjaston `metrics`-moduulin avulla. Laske myös ROC-käyrän alainen alue muuttujaa `auc`. Piirrä kynnysarvon optimointikäyrä `matplotlib`-kirjastolla.\n",
    "\n",
    "5. Kirjoita `pohdinta`-merkkijonomuuttujaan mitä ajatuksia ROC-käyrä ja tarkkuus herättävät."
   ]
  },
  {
   "cell_type": "code",
   "execution_count": 5,
   "metadata": {
    "ExecuteTime": {
     "end_time": "2023-08-22T11:29:10.757497600Z",
     "start_time": "2023-08-22T11:29:10.664745800Z"
    },
    "collapsed": false,
    "jupyter": {
     "outputs_hidden": false
    }
   },
   "outputs": [
    {
     "name": "stdout",
     "output_type": "stream",
     "text": [
      "[1 0 0 0 1 0 1 1 1 0 1 0 1 0 0 0 0 0 0 1 0 0 0 0 0 1 0 0 1 0 1 1 1 0 1 1 1\n",
      " 1 0 0 0 1 1 1 1 0 1 1]\n",
      "[ 0.04243174 -1.61985907 -0.78871367 -0.78871367  0.04243174 -0.78871367\n",
      "  0.04243174  0.04243174  0.04243174 -0.78871367  0.04243174 -0.78871367\n",
      "  0.04243174 -0.78871367 -0.78871367 -1.61985907 -1.61985907 -0.78871367\n",
      " -0.78871367  0.04243174 -1.61985907 -1.61985907 -0.78871367 -1.61985907\n",
      " -0.78871367  0.04243174 -0.78871367 -0.78871367  0.04243174 -3.28214989\n",
      "  0.04243174  0.04243174  0.04243174 -1.61985907  0.04243174  0.04243174\n",
      "  0.04243174  0.04243174 -0.78871367 -0.78871367 -0.78871367  0.04243174\n",
      "  0.04243174  0.04243174  0.04243174 -1.61985907  0.04243174  0.04243174]\n"
     ]
    }
   ],
   "source": [
    "# Kirjoita toteutuksesi tähän soluun.\n",
    "from sklearn.linear_model import Perceptron\n",
    "\n",
    "# Luo ja sovita Perceptron-malli\n",
    "pc = Perceptron(alpha=0.01, penalty='l1', eta0=0.5, tol=0.0001, max_iter=100)\n",
    "\n",
    "pc.fit(X_train, y_train)\n",
    "\n",
    "# Ennusta luokat\n",
    "y_pred = pc.predict(X_test)\n",
    "\n",
    "# Ennusta todennäköisyyspisteet (luottamuspisteet)\n",
    "y_score = pc.decision_function(X_test)\n",
    "\n",
    "# Nämä vaan koska kiinnostaa miltä näyttää\n",
    "print(y_pred)\n",
    "print(y_score)\n"
   ]
  },
  {
   "cell_type": "code",
   "execution_count": 6,
   "metadata": {
    "tags": []
   },
   "outputs": [
    {
     "name": "stdout",
     "output_type": "stream",
     "text": [
      "Best Hyperparameters: {'alpha': 0.01, 'eta0': 0.5, 'max_iter': 100, 'penalty': 'l1', 'tol': 0.0001}\n"
     ]
    }
   ],
   "source": [
    "# Kokeillaan GridSearchia parametrien löytämiseksi\n",
    "\n",
    "from sklearn.model_selection import GridSearchCV\n",
    "\n",
    "param_grid = {\n",
    "    'penalty': [None, 'l2', 'l1'],\n",
    "    'alpha': [0.0001, 0.001, 0.01],\n",
    "    'max_iter': [100, 500, 1000],\n",
    "    'tol': [1e-4, 1e-3, 1e-2],\n",
    "    'eta0': [0.1, 0.5, 1.0],\n",
    "}\n",
    "\n",
    "perceptron = Perceptron()\n",
    "\n",
    "# Käytetään GridSearchCV:tä parhaiden hyperparametrien etsimiseen\n",
    "grid_search = GridSearchCV(perceptron, param_grid, cv=5, scoring='accuracy')\n",
    "grid_search.fit(X_train, y_train)\n",
    "\n",
    "# Tulokset\n",
    "best_params = grid_search.best_params_\n",
    "print(\"Best Hyperparameters:\", best_params)"
   ]
  },
  {
   "cell_type": "code",
   "execution_count": 7,
   "metadata": {
    "tags": []
   },
   "outputs": [
    {
     "data": {
      "image/png": "[encoded data removed]",
      "text/plain": [
       "<Figure size 500x500 with 1 Axes>"
      ]
     },
     "metadata": {},
     "output_type": "display_data"
    }
   ],
   "source": [
    "import matplotlib.pyplot as plt\n",
    "from sklearn.metrics import classification_report, confusion_matrix, ConfusionMatrixDisplay\n",
    "\n",
    "cr = classification_report(y_test, y_pred)\n",
    "cm = confusion_matrix(y_test, y_pred)\n",
    "\n",
    "import matplotlib.pyplot as plt\n",
    "from sklearn.metrics import roc_curve, auc\n",
    "from sklearn.metrics import roc_auc_score\n",
    "\n",
    "fpr, tpr, thresholds = roc_curve(y_test, y_score)\n",
    "auc = auc(fpr, tpr) # AUC\n",
    "\n",
    "# Kynnysarvon optimointikäyrä\n",
    "def fig2():\n",
    "    plt.figure(figsize=(5, 5))\n",
    "    plt.plot(thresholds, 1 - fpr, label='1 - FPR (Specificity)')\n",
    "    plt.plot(thresholds, tpr, label='TPR (Sensitivity)')\n",
    "    plt.xlabel('Threshold')\n",
    "    plt.ylabel('Rate')\n",
    "    plt.title('Kynnysarvon optimointikäyrä')\n",
    "    plt.legend(loc='center left')\n",
    "    plt.show()\n",
    "\n",
    "# ROC käyrä\n",
    "def fig():\n",
    "    plt.figure(figsize=(5, 5))\n",
    "    plt.plot(fpr, tpr, color='darkorange', lw=2, label='AUC = {:.2f}'.format(auc))\n",
    "    plt.plot([0, 1], [0, 1], color='navy', lw=2, linestyle='--')\n",
    "    plt.xlim([0.0, 1.0])\n",
    "    plt.ylim([0.0, 1.05])\n",
    "    plt.xlabel('False Positive Rate')\n",
    "    plt.ylabel('True Positive Rate')\n",
    "    plt.title('ROC käyrä')\n",
    "    plt.legend(loc='lower right')\n",
    "    plt.show()\n",
    "\n",
    "fig2()"
   ]
  },
  {
   "cell_type": "code",
   "execution_count": 8,
   "metadata": {
    "ExecuteTime": {
     "end_time": "2023-08-22T11:29:10.774452100Z",
     "start_time": "2023-08-22T11:29:10.759493100Z"
    },
    "collapsed": false,
    "jupyter": {
     "outputs_hidden": false
    }
   },
   "outputs": [
    {
     "name": "stdout",
     "output_type": "stream",
     "text": [
      "Perceptron average test accuracy: 0.6458333333333334\n"
     ]
    }
   ],
   "source": [
    "# Tehtävän vastaukset. Huom! Älä muokkaa tätä solua, vaan aja se, kun olet suorittanut tehtävän.\n",
    "print(f'Perceptron average test accuracy: {pc.score(X_test, y_test)}')"
   ]
  },
  {
   "cell_type": "code",
   "execution_count": 9,
   "metadata": {
    "ExecuteTime": {
     "end_time": "2023-08-22T11:29:10.801380Z",
     "start_time": "2023-08-22T11:29:10.775450100Z"
    },
    "collapsed": false,
    "jupyter": {
     "outputs_hidden": false
    }
   },
   "outputs": [],
   "source": [
    "# Pohdintaa.\n",
    "pohdinta = \"\"\"\n",
    "\n",
    "\"\"\""
   ]
  },
  {
   "cell_type": "code",
   "execution_count": 10,
   "metadata": {
    "ExecuteTime": {
     "end_time": "2023-08-22T11:29:11.008826800Z",
     "start_time": "2023-08-22T11:29:10.792404800Z"
    },
    "collapsed": false,
    "jupyter": {
     "outputs_hidden": false
    }
   },
   "outputs": [
    {
     "name": "stdout",
     "output_type": "stream",
     "text": [
      "Classification report:\n",
      "               precision    recall  f1-score   support\n",
      "\n",
      "           0       0.64      0.67      0.65        24\n",
      "           1       0.65      0.62      0.64        24\n",
      "\n",
      "    accuracy                           0.65        48\n",
      "   macro avg       0.65      0.65      0.65        48\n",
      "weighted avg       0.65      0.65      0.65        48\n",
      "\n",
      "Confusion matrix:\n",
      " [[16  8]\n",
      " [ 9 15]]\n",
      "auc: 0.6953125000000001\n",
      "Pohdinta: \n",
      "\n",
      "\n"
     ]
    },
    {
     "data": {
      "image/png": "[encoded data removed]",
      "text/plain": [
       "<Figure size 500x500 with 1 Axes>"
      ]
     },
     "metadata": {},
     "output_type": "display_data"
    }
   ],
   "source": [
    "# Tehtävän vastaukset. Huom! Älä muokkaa tätä solua, vaan aja se, kun olet suorittanut tehtävän.\n",
    "# Tee vastauksesi siten, että tämän solun tuloksena näkyy alla myös kaaviokuva.\n",
    "\n",
    "print(f'Classification report:\\n {cr}')\n",
    "print(f'Confusion matrix:\\n {cm}')\n",
    "print(f'auc: {auc}')\n",
    "print(f'Pohdinta: {pohdinta}')\n",
    "fig()"
   ]
  },
  {
   "cell_type": "markdown",
   "metadata": {},
   "source": [
    "### Muuta pohdintaa\n",
    "\n",
    "**Luokat tarkemmin**\n",
    "\n",
    "- happy = decision attribute (D) with values 0 (unhappy) and 1 (happy)\n",
    "- info-availability = the availability of information about the city services\n",
    "- cost-of-housing = the cost of housing\n",
    "- quality-public-schools = the overall quality of public schools\n",
    "- trust-in-local-police = your trust in the local police\n",
    "- maintenance-of-streets = the maintenance of streets and sidewalks \n",
    "- social-event-availability = the availability of social community events\n",
    "\n",
    "Attributes other than 'happy' have values 1 to 5.\n",
    "\n",
    "Vaikka happy -sarakkeen luokat eivät ole täysin tasapainossa, epätasapaino ei ole äärimmäistä.\n",
    "\n",
    "**Luottamuspisteet**\n",
    "\n",
    "Luottamuspisteet (confidence score): jatkuva arvo, joka edustaa mallin \"luottamusta\" tai \"voimaa\" määritettäessä tietty esiintymä tiettyyn luokkaan.\n",
    "\n",
    "- Positiivinen luottamuspiste osoittaa, että esiintymän ennustetaan kuuluvan luokkaan 1.\n",
    "- Negatiivinen luottamuspiste osoittaa, että esiintymän ennustetaan olevan luokkaa 0.\n",
    "\n",
    "Mitä suurempi luottamuspisteen absoluuttinen arvo on, sitä varmempi malli on ennusteessaan. Esimerkiksi arvo (-3.28214989) osoittaa siihen, että esiintymä kuuluu luokkaan 0 (unhappy). Erittäin negatiivinen arvo viittaa korkeaan luottamustasoon. Tässä tapauksessa luokkaan 1 (happy) liittyvät ennusteet eivät saavuta korkeita luottamuspisteitä, mikä viittaa siihen, että malli on epävarmempi luokan 1 ennustamisessa.\n",
    "\n",
    "**Classification report**\n",
    "'\n",
    "- Precision: Luokan 0 ennustetuista tapauksista 64% oli luokkaa 0 ja luokasta 1 65% oli luokkaa 1.\n",
    "- Recall: Kaikista luokan 0 todellisista tapauksista malli tunnisti oikein 67% ja luokassa 1 62%.\n",
    "- F1-Score: F1-pisteet huomioivat sekä vääriä positiivisia että vääriä negatiivisia. Korkeampi F1-pistemäärä osoittaa parempaa tasapainoa Precisionin ja Recallin välillä. Luokilla 0 ja 1 arvot olivat lähes samat (0: 0.65 ja 1: 0.64).\n",
    "\n",
    "Hyperparametrien säätämisen jälkeen luokitteluraportista huomataan arvojen tasoittumista. Ennen hyperparametrien säätämistä precision, recall ja F1-scoressa oli suuret erot luokkien välillä, mutta nyt ne ovat tasoittuneet, mikä tarkoittaa sitä, että malli toimii nyt molemmissa luokissa suht tasaisesti. Vaikka hyperparametrien säätämisellä saatiin tarkkuutta nostettua 0.62:ta 0.65:een (sarkastinen wuhuu!), on tarkkuusarvo silti todella matala.\n",
    "\n",
    "Eräs selittävä tekijä huonolle ennustamiskyvylle voi olla se, että onnellisuus ei riipu näistä tekijöistä mitä asukkailta on kysytty. Jos vaikka tarkastellaan dataframen (kuva alla) rivejä 2 ja 3, huomataan, että vaikka rivillä kolme asukas on ollut tyytyväisempi palveluihin, hän on silti ollut onneton, kun taas tyytymättömämpi asukas on kertonut olevansa onnellinen (olettaen, että kyselyssä 1=huono ja 5=hyvä). \n",
    "\n",
    "![](./df.png)\n"
   ]
  },
  {
   "cell_type": "markdown",
   "metadata": {},
   "source": [
    "## Tehtävä 1-2\n",
    "\n",
    "### Aihe: Uutisryhmien viestit, Luokittelija: Perseptroni (3 p)\n",
    "\n",
    "Tutustu valmiiseen aineistoon\n",
    "\n",
    "* `sklearn.datasets.fetch_20newsgroups`\n",
    "\n",
    "Tässä aineistossa on viestejä, joita lähetetty 20 uutisryhmään. Aineistoa ei tarvitse esikäsitellä. Käytetään luokittelussa seuraavia kategorioista:\n",
    "* `categories: ['rec.sport.hockey', 'rec.sport.baseball', 'rec.autos']`\n",
    "* `categories_2: ['comp.graphics', 'comp.os.ms-windows.misc', 'comp.windows.x']`\n",
    "\n",
    "Aineisto on jaettu valmiiksi test- ja train-aliaineistoihin (`fetch_20newsgroups(subset)`. Käytä seuraavia muuttujia opetus- ja testiaineistoilla  (`X_train`, `y_train`, `X_test`, `y_test`)."
   ]
  },
  {
   "cell_type": "code",
   "execution_count": 12,
   "metadata": {
    "ExecuteTime": {
     "end_time": "2023-08-22T11:29:13.022440800Z",
     "start_time": "2023-08-22T11:29:10.807364300Z"
    },
    "collapsed": false,
    "jupyter": {
     "outputs_hidden": false
    }
   },
   "outputs": [
    {
     "name": "stdout",
     "output_type": "stream",
     "text": [
      "(1192, 18242)\n",
      "(1791, 18242)\n"
     ]
    }
   ],
   "source": [
    "from sklearn.datasets import fetch_20newsgroups\n",
    "from sklearn.metrics import classification_report, confusion_matrix, ConfusionMatrixDisplay\n",
    "from sklearn.feature_extraction.text import TfidfVectorizer\n",
    "from sklearn.linear_model import Perceptron\n",
    "import matplotlib.pyplot as plt\n",
    "\n",
    "categories = ['rec.sport.hockey', 'rec.sport.baseball', 'rec.autos']\n",
    "\n",
    "# TODO: aseta valittavan testijoukon nimi (subset) ja kategoriat (categories)\n",
    "ng_train = fetch_20newsgroups(subset='train', categories=categories,\n",
    "                              remove=('headers', 'footers', 'quotes'))\n",
    "ng_test = fetch_20newsgroups(subset='test', categories=categories,\n",
    "                             remove=('headers', 'footers', 'quotes'))\n",
    "\n",
    "X_train,y_train = ng_train.data,ng_train.target\n",
    "X_test,y_test = ng_test.data,ng_test.target\n",
    "\n",
    "vectorizer = TfidfVectorizer()\n",
    "\n",
    "# TODO: Muunna opetusaineisto fit_transform()-metodilla\n",
    "X_train = vectorizer.fit_transform(X_train)\n",
    "\n",
    "# TODO: Muunna myös testiaineisto transform()-metodilla\n",
    "X_test = vectorizer.transform(X_test)"
   ]
  },
  {
   "cell_type": "markdown",
   "metadata": {},
   "source": [
    "1. Käytä `scikit-learn`-kirjaston lineaarista perseptronia luodaksesi luokittelija. Tallenna luokittelija `pc`-muuttujaan. Käytä satunnaissiementä `12501`.\n",
    "\n",
    "2. Ennusta testausaineistosi todennäköisyys olla luokassa käyttäen luokittelijaasi ja tallenna luottamuspisteet muuttujaan `y_score`. Tallenna ennustettujen luokkien tulos muuttujaan `y_pred`.\n",
    "\n",
    "3. Tallenna luokitteluraportti `cr` ja sekaannusmatriisi `cm` käyttäen `metrics`-moduulia."
   ]
  },
  {
   "cell_type": "code",
   "execution_count": 15,
   "metadata": {
    "ExecuteTime": {
     "end_time": "2023-08-22T11:29:13.031417200Z",
     "start_time": "2023-08-22T11:29:13.026429300Z"
    },
    "collapsed": false,
    "jupyter": {
     "outputs_hidden": false
    }
   },
   "outputs": [],
   "source": [
    "# Kirjoita toteutuksesi tähän soluun.\n",
    "pc = Perceptron(random_state=12501)\n",
    "\n",
    "pc.fit(X_train, y_train)\n",
    "\n",
    "# Ennusta luokat\n",
    "y_pred = pc.predict(X_test)\n",
    "\n",
    "# Ennusta todennäköisyyspisteet (luottamuspisteet)\n",
    "y_score = pc.decision_function(X_test)\n",
    "\n",
    "cr1 = classification_report(y_test, y_pred)\n",
    "cm1 = confusion_matrix(y_test, y_pred)"
   ]
  },
  {
   "cell_type": "code",
   "execution_count": 16,
   "metadata": {
    "ExecuteTime": {
     "start_time": "2023-08-22T11:29:13.029422300Z"
    },
    "collapsed": false,
    "jupyter": {
     "outputs_hidden": false
    }
   },
   "outputs": [
    {
     "name": "stdout",
     "output_type": "stream",
     "text": [
      "Predict: [1 2 0 ... 0 2 0] and score: [[-0.21437599  0.43421675 -0.35453969]\n",
      " [-0.3811092  -0.11365841 -0.01741706]\n",
      " [ 0.13018903 -0.89340003 -0.43527784]\n",
      " ...\n",
      " [ 0.01711722 -0.07380962 -0.23293169]\n",
      " [-0.77755308 -0.6939603   0.59417642]\n",
      " [ 0.21410956 -0.09395535 -0.1688701 ]]\n",
      "Perceptron average test accuracy: 0.8582214765100671\n",
      "[[365  19  12]\n",
      " [ 42 310  45]\n",
      " [ 24  27 348]]\n",
      "              precision    recall  f1-score   support\n",
      "\n",
      "           0       0.85      0.92      0.88       396\n",
      "           1       0.87      0.78      0.82       397\n",
      "           2       0.86      0.87      0.87       399\n",
      "\n",
      "    accuracy                           0.86      1192\n",
      "   macro avg       0.86      0.86      0.86      1192\n",
      "weighted avg       0.86      0.86      0.86      1192\n",
      "\n"
     ]
    }
   ],
   "source": [
    "# Tehtävän vastauksien ajaminen. Huom! Älä muokkaa tätä solua, vaan aja se, kun olet suorittanut tehtävän.\n",
    "\n",
    "print(f\"Predict: {y_pred} and score: {y_score}\")\n",
    "print(f'Perceptron average test accuracy: {pc.score(X_test, ng_test.target)}')\n",
    "print(cm1)  # verrataan toteutuneita arvoja ennusteisin\n",
    "print(cr1)"
   ]
  },
  {
   "cell_type": "markdown",
   "metadata": {},
   "source": [
    "Piirretään kuva sekaannusmatriisista"
   ]
  },
  {
   "cell_type": "code",
   "execution_count": 18,
   "metadata": {
    "ExecuteTime": {
     "end_time": "2023-08-22T11:29:13.033411700Z",
     "start_time": "2023-08-22T11:29:13.033411700Z"
    },
    "collapsed": false,
    "jupyter": {
     "outputs_hidden": false
    }
   },
   "outputs": [
    {
     "data": {
      "image/png": "[encoded data removed]",
      "text/plain": [
       "<Figure size 640x480 with 2 Axes>"
      ]
     },
     "metadata": {},
     "output_type": "display_data"
    }
   ],
   "source": [
    "# TODO: sekaannusmatriisin piirtäminen\n",
    "\n",
    "cm_display = ConfusionMatrixDisplay(cm1).plot()"
   ]
  },
  {
   "cell_type": "markdown",
   "metadata": {},
   "source": [
    "### Muuta pohdintaa\n",
    "\n",
    "**TfidfVectorizer**\n",
    "\n",
    "1. TfidfVectorizer ottaa joukon tekstidokumentteja ja muuntaa ne harvaksi matriisiksi, jossa jokainen rivi vastaa asiakirjaa ja jokainen sarake vastaa uniikkia sanaa koko asiakirjakokoelmassa.\n",
    "\n",
    "2. Tämän matriisin arvot edustavat kunkin asiakirjan jokaisen sanan TF-IDF-pisteitä. Sanoilla, jotka ovat yleisiä tietyssä asiakirjassa mutta harvinaisia koko kokoelmassa, on korkeammat TF-IDF-pisteet.\n",
    "\n",
    "TfidfVectorizer onkin siis tärkeä apuväline luonnollisen kielen (natural language) käsittelyssä, koska se muuttaa tekstidatan koneoopimisalgoritmille ymmärrettävään muotoon (numeeriseksi).\n",
    "\n",
    "Tässä tapauksessa siis\n",
    "koulutujoukko: 1791 asiakirjaa, 18242 sanaa\n",
    "testijoukko: 1192 asiakirjaa, 18242 sanaa"
   ]
  },
  {
   "cell_type": "markdown",
   "metadata": {},
   "source": [
    "# Tehtävä 1-3) (2 p)\n",
    "Toteuta sama myös toisella `categories_2` -kategorialistalla,\n",
    "\n",
    "Pohdinta: Vertaa uutisryhmien opetustuloksia toisiinsa ja pohdi sanallisesti, että mistä mahdolliset erot tuloksissa johtuvat.\n",
    "\n",
    "Huom! Tähänkin aineistoon (jos kiinnostaa enemmän) voit palata myöhemmin kurssin vapaaehtoisen harjoitustyön parissa."
   ]
  },
  {
   "cell_type": "code",
   "execution_count": 1,
   "metadata": {
    "ExecuteTime": {
     "end_time": "2023-08-22T11:29:13.036405200Z",
     "start_time": "2023-08-22T11:29:13.035406600Z"
    },
    "collapsed": false,
    "jupyter": {
     "outputs_hidden": false
    }
   },
   "outputs": [
    {
     "name": "stdout",
     "output_type": "stream",
     "text": [
      "(1178, 47529)\n",
      "(1768, 47529)\n"
     ]
    }
   ],
   "source": [
    "from sklearn.datasets import fetch_20newsgroups\n",
    "from sklearn.metrics import classification_report, confusion_matrix, ConfusionMatrixDisplay\n",
    "from sklearn.feature_extraction.text import TfidfVectorizer\n",
    "from sklearn.linear_model import Perceptron\n",
    "import matplotlib.pyplot as plt\n",
    "\n",
    "categories_2 = ['comp.graphics', 'comp.os.ms-windows.misc', 'comp.windows.x']\n",
    "\n",
    "# TODO: aseta valittavan testijoukon nimi (subset) ja kategoriat (categories)\n",
    "ng_train = fetch_20newsgroups(subset='train', categories=categories_2,\n",
    "                              remove=('headers', 'footers', 'quotes'))\n",
    "ng_test = fetch_20newsgroups(subset='test', categories=categories_2,\n",
    "                             remove=('headers', 'footers', 'quotes'))\n",
    "\n",
    "vectorizer = TfidfVectorizer()\n",
    "\n",
    "X_train,y_train = ng_train.data,ng_train.target\n",
    "X_test,y_test = ng_test.data,ng_test.target\n",
    "\n",
    "# TODO: Muunna opetusaineisto fit_transform()-metodilla\n",
    "X_train = vectorizer.fit_transform(X_train)\n",
    "\n",
    "# TODO: Muunna myös testiaineisto transform()-metodilla\n",
    "X_test = vectorizer.transform(X_test)\n",
    "\n",
    "print(X_test.shape)\n",
    "print(X_train.shape)\n",
    "\n",
    "# Kirjoita toteutuksesi tähän soluun.\n",
    "pc = Perceptron(random_state=12501)\n",
    "\n",
    "pc.fit(X_train, y_train)\n",
    "\n",
    "# Ennusta luokat\n",
    "y_pred = pc.predict(X_test)\n",
    "\n",
    "# Ennusta todennäköisyyspisteet (luottamuspisteet)\n",
    "y_score = pc.decision_function(X_test)\n",
    "\n",
    "cr1 = classification_report(y_test, y_pred)\n",
    "cm1 = confusion_matrix(y_test, y_pred)"
   ]
  },
  {
   "cell_type": "code",
   "execution_count": 3,
   "metadata": {
    "ExecuteTime": {
     "end_time": "2023-08-22T11:29:13.083278600Z",
     "start_time": "2023-08-22T11:29:13.040435100Z"
    },
    "collapsed": false,
    "jupyter": {
     "outputs_hidden": false
    }
   },
   "outputs": [
    {
     "name": "stdout",
     "output_type": "stream",
     "text": [
      "Predict: [0 2 1 ... 0 1 1] and score: [[ 0.79084953 -0.54862678 -0.67818069]\n",
      " [-0.24036164 -0.5191811   0.02529202]\n",
      " [-0.27250296  0.18487685 -0.02065824]\n",
      " ...\n",
      " [ 0.38867009 -0.19169666 -0.59294443]\n",
      " [-0.68236023  0.88524358 -0.85308886]\n",
      " [-0.33076315  0.23788087 -0.61880495]]\n",
      "Perceptron average test accuracy: 0.732597623089983\n",
      "[[297  47  45]\n",
      " [ 73 292  29]\n",
      " [ 68  53 274]]\n",
      "              precision    recall  f1-score   support\n",
      "\n",
      "           0       0.68      0.76      0.72       389\n",
      "           1       0.74      0.74      0.74       394\n",
      "           2       0.79      0.69      0.74       395\n",
      "\n",
      "    accuracy                           0.73      1178\n",
      "   macro avg       0.74      0.73      0.73      1178\n",
      "weighted avg       0.74      0.73      0.73      1178\n",
      "\n"
     ]
    }
   ],
   "source": [
    "# Tehtävän vastauksien ajaminen. Huom! Älä muokkaa tätä solua, vaan aja se, kun olet suorittanut tehtävän.\n",
    "\n",
    "print(f\"Predict: {y_pred} and score: {y_score}\")\n",
    "print(f'Perceptron average test accuracy: {pc.score(X_test, ng_test.target)}')\n",
    "print(confusion_matrix(ng_test.target, y_pred))  # verrataan toteutuneita arvoja ennusteisin\n",
    "print(classification_report(ng_test.target, y_pred))"
   ]
  },
  {
   "cell_type": "markdown",
   "metadata": {},
   "source": [
    "Sekaannusmatriisin piirtäminen `categories_2` -datalla:"
   ]
  },
  {
   "cell_type": "code",
   "execution_count": 4,
   "metadata": {
    "ExecuteTime": {
     "start_time": "2023-08-22T11:29:13.044381600Z"
    },
    "collapsed": false,
    "jupyter": {
     "outputs_hidden": false
    },
    "tags": []
   },
   "outputs": [
    {
     "data": {
      "image/png": "[encoded data removed]",
      "text/plain": [
       "<Figure size 640x480 with 2 Axes>"
      ]
     },
     "metadata": {},
     "output_type": "display_data"
    }
   ],
   "source": [
    "# TODO: sekaannusmatriisin piirtäminen\n",
    "\n",
    "cm_display = ConfusionMatrixDisplay(cm1).plot()"
   ]
  }
 ],
 "metadata": {
  "kernelspec": {
   "display_name": "Python 3 (ipykernel)",
   "language": "python",
   "name": "python3"
  },
  "language_info": {
   "codemirror_mode": {
    "name": "ipython",
    "version": 3
   },
   "file_extension": ".py",
   "mimetype": "text/x-python",
   "name": "python",
   "nbconvert_exporter": "python",
   "pygments_lexer": "ipython3",
   "version": "3.11.4"
  }
 },
 "nbformat": 4,
 "nbformat_minor": 4
}
