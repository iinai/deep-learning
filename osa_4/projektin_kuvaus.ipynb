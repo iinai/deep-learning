{
 "cells": [
  {
   "cell_type": "markdown",
   "id": "fbe507a6-f1c9-4b28-a824-92b3151b8547",
   "metadata": {},
   "source": [
    "# Projektin kuvaus: Kissan ja koiran kuvien luokittelu neuroverkon avulla\n",
    "\n",
    "- Tekijä: Iina Pirinen\n",
    "- Päivämäärä: 27.11.2023\n",
    "\n",
    "![](./img/cat-dog.png)"
   ]
  },
  {
   "cell_type": "markdown",
   "id": "593c1660-97f8-4d9c-8b5a-71e26da9c795",
   "metadata": {},
   "source": [
    "## Lyhyt kuvaus\n",
    "\n",
    "Tämä projekti sisältää neuroverkon kehittämisen ja toteutuksen kissojen ja koirien kuvien luokitteluun. Ensisijainen tavoite on kouluttaa neuroverkko merkityllä aineistolla, joka sisältää kuvia kissoista ja koirista, ja arvioida sen suorituskykyä erillisessä testijoukossa. Malli pyrkii luokittelemaan uudet, ennennäkemättömät kuvat tarkasti joko kissoiksi tai koiriksi koulutusvaiheessa opittujen kuvioiden perusteella.\n",
    "\n",
    "## Tietolähde\n",
    "\n",
    "Tässä projektissa käytetty tietojoukko on peräisin Kagglesta: [Cat and Dog Dataset](https://www.kaggle.com/datasets/tongpython/cat-and-dog/data). Aineisto on jo jaettu koulutus- ja testaussarjoihin, joissa on erilliset kansiot kissan ja koiran kuville.\n",
    "\n",
    "## Aineiston tiedot\n",
    "\n",
    "### Koulutustiedot\n",
    "\n",
    "- 4000 kissakuvaa\n",
    "- 4005 koirakuvaa\n",
    "\n",
    "### Testitiedot\n",
    "\n",
    "- 1011 kissan kuvaa\n",
    "- 1012 koirakuvaa\n",
    "\n",
    "### Tiedostojen nimeämiskäytäntö\n",
    "\n",
    "Kuvat on nimetty yhdenmukaisessa muodossa, ja jokainen kuvatiedosto on nimetty nimellä {laji}.{uniikki id}. Esimerkiksi kissakuvan nimi voi olla \"cat.399\", mikä osoittaa, että se on kuva kissasta, jonka yksilöllinen tunniste on 399. Tämä nimeämiskäytäntö helpottaa tietojoukon järjestämistä ja varmistaa, että jokainen kuva on helposti tunnistettavissa."
   ]
  },
  {
   "cell_type": "markdown",
   "id": "7a44c01d-4852-4550-9f73-70c9a176f332",
   "metadata": {},
   "source": [
    "## Toteutuksen vaiheet\n",
    "\n",
    "1. Tietojen esikäsittely: Lataa ja esikäsittele kuvat varmistaen koon ja muodon yhtenäisyyden.\n",
    "2. Malliarkkitehtuuri: Määritä neuroverkkoarkkitehtuuri kuvien luokittelua varten ottaen huomioon konvoluutiokerrokset piirteiden poimimista varten.\n",
    "3. Harjoittelu: Harjoittele mallia harjoitustietojoukon avulla säätämällä painoja luokitteluvirheiden minimoimiseksi.\n",
    "4. Arviointi: Arvioi mallin suorituskykyä testitietojoukossa mitataksesi sen tarkkuutta, tarkkuutta, muistamista ja muita asiaankuuluvia mittareita.\n",
    "5. Hienosäätö: Hienosäädä mallia suorituskyvyn parantamiseksi arviointitulosten perusteella.\n",
    "6. Ennustus: Käytä koulutettua mallia ennustaaksesi uusien, ennen näkemättömien kuvien lajit (kissa tai koira).\n",
    "\n",
    "Näitä vaiheita noudattamalla neuroverkko pyrkii oppimaan merkityksellisiä piirteitä harjoitustiedoista ja yleistämään hyvin kissan ja koiran kuvat luokittelemaan testisarjassa oikein."
   ]
  },
  {
   "cell_type": "markdown",
   "id": "e645ebf4-dad9-4d3c-8e98-ba1a2f7817ea",
   "metadata": {},
   "source": [
    "## Käytetyt ohjelmistot\n",
    "\n",
    "1. Anaconda (Jupyter-muistikirja)\n",
    "\n",
    "    - Kuvaus: Anaconda on Python- ja R-ohjelmointikielten avoimen lähdekoodin jakelu tieteelliseen laskemiseen, jonka tarkoituksena on yksinkertaistaa pakettien hallintaa ja käyttöönottoa. Jupyter Notebook on interaktiivinen verkkopohjainen sovellus, jonka avulla voidaan luoda ja jakaa asiakirjoja, jotka sisältävät live-koodia, yhtälöitä, visualisointeja ja kerrottavaa tekstiä.\n",
    "    - Käyttö projektissa: Anaconda tarjoaa kätevän ympäristön Python-pakettien ja riippuvuuksien hallintaan. Jupyter Notebookia käytetään yleisesti koodin kehittämiseen ja esittämiseen vaiheittain, mikä tekee siitä erinomaisen työkalun tietojen tutkimiseen, mallien kehittämiseen ja dokumentointiin.\n",
    "\n",
    "2. Python\n",
    "\n",
    "    - Kuvaus: Python on korkeatasoinen, monipuolinen ja tulkittu ohjelmointikieli. Sitä käytetään laajasti eri aloilla, mukaan lukien datatiede, koneoppiminen ja tekoäly.\n",
    "    - Käyttö projektissa: Python toimii ensisijaisena ohjelmointikielenä neuroverkon kehittämisessä, tiedon esikäsittelyssä, mallin koulutuksessa, arvioinnissa ja ennustamisessa. Sen laaja kirjastojen ja kehysten ekosysteemi yhdistettynä luettavuuden ja yksinkertaisuuden kanssa tekee siitä suositun valinnan koneoppimisprojekteihin.\n",
    "\n",
    "3. Matplotlib\n",
    "\n",
    "    - Kuvaus: Matplotlib on 2D-piirtokirjasto staattisten, animoitujen ja interaktiivisten visualisointien luomiseen Pythonissa. Se tarjoaa laajan valikoiman piirtovaihtoehtoja kaavioiden, kaavioiden ja muiden tietojen visuaalisten esitysten luomiseen.\n",
    "    - Käyttö projektissa: Matplotlib on välttämätön tietojoukon visualisoinnissa, koulutuksen edistymisessä ja arviointimittareissa. Sen avulla voidaan luoda kaavioita, joista saadaan käsitys mallin suorituskyvystä, kuten tarkkuudesta aikakausittain, sekaannusmatriiseista ja näyte-ennusteista."
   ]
  }
 ],
 "metadata": {
  "kernelspec": {
   "display_name": "Python 3 (ipykernel)",
   "language": "python",
   "name": "python3"
  },
  "language_info": {
   "codemirror_mode": {
    "name": "ipython",
    "version": 3
   },
   "file_extension": ".py",
   "mimetype": "text/x-python",
   "name": "python",
   "nbconvert_exporter": "python",
   "pygments_lexer": "ipython3",
   "version": "3.10.13"
  }
 },
 "nbformat": 4,
 "nbformat_minor": 5
}
