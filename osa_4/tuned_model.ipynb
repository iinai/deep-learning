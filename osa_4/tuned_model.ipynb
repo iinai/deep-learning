{
 "cells": [
  {
   "cell_type": "markdown",
   "id": "a2f90627-b084-446a-ac44-fcbfab8a133b",
   "metadata": {},
   "source": [
    "# Kissa- ja koiraluokittelija v2"
   ]
  },
  {
   "cell_type": "code",
   "execution_count": null,
   "id": "6603565d-c90b-4561-afd5-47733215dcfb",
   "metadata": {},
   "outputs": [],
   "source": []
  }
 ],
 "metadata": {
  "kernelspec": {
   "display_name": "Python 3 (ipykernel)",
   "language": "python",
   "name": "python3"
  },
  "language_info": {
   "codemirror_mode": {
    "name": "ipython",
    "version": 3
   },
   "file_extension": ".py",
   "mimetype": "text/x-python",
   "name": "python",
   "nbconvert_exporter": "python",
   "pygments_lexer": "ipython3",
   "version": "3.10.13"
  }
 },
 "nbformat": 4,
 "nbformat_minor": 5
}
